{
 "cells": [
  {
   "cell_type": "code",
   "execution_count": 4,
   "metadata": {},
   "outputs": [
    {
     "name": "stdout",
     "output_type": "stream",
     "text": [
      "Enter the first string : ball\n",
      "Enter the first string : labl\n",
      "{'b': 1, 'a': 1, 'l': 2}\n",
      "{'l': 2, 'a': 1, 'b': 1}\n",
      "The second word is an anagram of the first\n"
     ]
    }
   ],
   "source": [
    "# String Anagram\n",
    "k=str(input(\"Enter the first string : \"))\n",
    "l=str(input(\"Enter the first string : \"))\n",
    "d1={}\n",
    "d2={}\n",
    "for i in k:\n",
    "    a=k.count(i)\n",
    "    if i not in d1:\n",
    "        d1[i]=a\n",
    "print(d1)\n",
    "for i in l:\n",
    "    b=l.count(i)\n",
    "    if i not in d2:\n",
    "        d2[i]=b\n",
    "print(d2)\n",
    "if d1.items()==d2.items():\n",
    "    print(\"The second word is an anagram of the first\")\n",
    "else:\n",
    "    print(\"Not an anagram\")"
   ]
  },
  {
   "cell_type": "code",
   "execution_count": 2,
   "metadata": {},
   "outputs": [
    {
     "name": "stdout",
     "output_type": "stream",
     "text": [
      "enter the number: 8\n",
      "40320\n"
     ]
    }
   ],
   "source": [
    "# Factorial using Recursion\n",
    "def factorial(n):\n",
    "    if n==0 or n==1:\n",
    "        return 1\n",
    "    else:\n",
    "        return n*factorial(n-1)\n",
    "num=int(input(\"enter the number: \"))\n",
    "res=print(factorial(num))"
   ]
  },
  {
   "cell_type": "code",
   "execution_count": 5,
   "metadata": {},
   "outputs": [
    {
     "name": "stdout",
     "output_type": "stream",
     "text": [
      "Enter principle:3000\n",
      "Enter the rate1.3\n",
      "Enter the time:12\n",
      "3502.9553288073917\n"
     ]
    }
   ],
   "source": [
    "# Compound interest using Recursion\n",
    "def comp(p,t,r):\n",
    "    if t==0:\n",
    "        return p\n",
    "    else:\n",
    "        return comp(p+(p*r)/100,t-1,r)\n",
    "a=float(input(\"Enter principle:\"))\n",
    "b=float(input(\"Enter the rate\"))\n",
    "c=float(input(\"Enter the time:\"))\n",
    "print(comp(a,c,b))"
   ]
  },
  {
   "cell_type": "code",
   "execution_count": null,
   "metadata": {},
   "outputs": [],
   "source": []
  }
 ],
 "metadata": {
  "kernelspec": {
   "display_name": "Python 3",
   "language": "python",
   "name": "python3"
  },
  "language_info": {
   "codemirror_mode": {
    "name": "ipython",
    "version": 3
   },
   "file_extension": ".py",
   "mimetype": "text/x-python",
   "name": "python",
   "nbconvert_exporter": "python",
   "pygments_lexer": "ipython3",
   "version": "3.8.10"
  }
 },
 "nbformat": 4,
 "nbformat_minor": 4
}
